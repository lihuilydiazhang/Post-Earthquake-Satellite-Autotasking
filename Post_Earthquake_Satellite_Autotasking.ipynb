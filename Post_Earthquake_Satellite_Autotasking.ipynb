{
 "cells": [
  {
   "cell_type": "markdown",
   "metadata": {},
   "source": [
    "# Post Earthquake Satellite Autotasking Project\n",
    "This Jupyter Notebook will contain all code related to the accessing and tasking of satellites following an earthquake. The goal is to automate the process of image capture tasks for earthquake-affected areas using a satellite tasking API. Please replace 'SATELLITE' with your actual satellite tasking API provider for specific instructions.\n\n",
    "## Example Usage\n",
    "Example code showing how to access the SATELLITE API, capture images, and manage tasks will go here."
   ]
  }
 ],
 "metadata": {
  "kernelspec": {
   "display_name": "Python 3",
   "language": "python",
   "name": "python3"
  },
  "language_info": {
   "codemirror_mode": {
    "name": "ipython",
    "version": 3
   },
   "file_extension": ".py",
   "mimetype": "text/x-python",
   "name": "python",
   "nbconvert_exporter": "python",
   "pygments_lexer": "ipython3",
   "version": "3.8.5"
  }
 },
 "nbformat": 4,
 "nbformat_minor": 2
}
